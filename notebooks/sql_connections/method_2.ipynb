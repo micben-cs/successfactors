{
 "cells": [
  {
   "cell_type": "markdown",
   "id": "7b14ce0f",
   "metadata": {},
   "source": [
    "# SQL Connection Method 2: Using JupySQL with INI Configuration\n",
    "\n",
    "This notebook demonstrates **Method 2** for connecting to PostgreSQL database using JupySQL with a configuration file approach.\n",
    "\n",
    "## Key Features:\n",
    "- **JupySQL Extension**: Modern SQL magic extension with enhanced features\n",
    "- **INI Configuration**: Uses `connections.ini` file to store connection parameters\n",
    "- **Section-based Connections**: Loads specific database configuration by section name\n",
    "- **Clean Separation**: Database credentials separated from notebook code\n",
    "\n",
    "## Connection Approach:\n",
    "1. **Configuration File**: Connection details stored in `../../connections.ini`\n",
    "2. **Section Loading**: Uses `--section local_pg` to load specific configuration\n",
    "3. **Automatic Connection**: JupySQL handles connection management automatically\n",
    "\n",
    "## Advantages of this Method:\n",
    "- ✅ **Security**: Credentials not exposed in notebook cells\n",
    "- ✅ **Portability**: Easy to switch between different database environments\n",
    "- ✅ **Maintainability**: Single configuration file for multiple notebooks\n",
    "- ✅ **Team Collaboration**: Shared configuration without exposing secrets\n",
    "\n",
    "## File Structure:\n",
    "```\n",
    "├── connections.ini          # Database configuration file\n",
    "└── notebooks/\n",
    "    └── sql_connections/\n",
    "        └── method_2.ipynb   # This notebook\n",
    "```"
   ]
  },
  {
   "cell_type": "code",
   "execution_count": 1,
   "id": "ed4514e7",
   "metadata": {},
   "outputs": [],
   "source": [
    "%%capture\n",
    "%load_ext sql\n",
    "%config SqlMagic.dsn_filename = \"../../connections.ini\"\n",
    "%sql --section local_pg"
   ]
  },
  {
   "cell_type": "code",
   "execution_count": 2,
   "id": "34a35cd7",
   "metadata": {},
   "outputs": [
    {
     "data": {
      "text/html": [
       "<span style=\"None\">Running query in &#x27;local_pg&#x27;</span>"
      ],
      "text/plain": [
       "Running query in 'local_pg'"
      ]
     },
     "metadata": {},
     "output_type": "display_data"
    },
    {
     "data": {
      "text/html": [
       "<span style=\"color: green\">5 rows affected.</span>"
      ],
      "text/plain": [
       "5 rows affected."
      ]
     },
     "metadata": {},
     "output_type": "display_data"
    },
    {
     "data": {
      "text/html": [
       "<table>\n",
       "    <thead>\n",
       "        <tr>\n",
       "            <th>rank_position</th>\n",
       "            <th>name</th>\n",
       "            <th>source</th>\n",
       "            <th>country</th>\n",
       "            <th>gender</th>\n",
       "            <th>age</th>\n",
       "            <th>current_worth</th>\n",
       "            <th>birth_year</th>\n",
       "            <th>birth_month</th>\n",
       "            <th>birth_day</th>\n",
       "            <th>university_1</th>\n",
       "            <th>degree_1</th>\n",
       "            <th>university_2</th>\n",
       "            <th>degree_2</th>\n",
       "            <th>university_3</th>\n",
       "            <th>degree_3</th>\n",
       "        </tr>\n",
       "    </thead>\n",
       "    <tbody>\n",
       "        <tr>\n",
       "            <td>1</td>\n",
       "            <td>Elon Musk</td>\n",
       "            <td>Tesla, SpaceX</td>\n",
       "            <td>United States</td>\n",
       "            <td>M</td>\n",
       "            <td>54</td>\n",
       "            <td>413.1</td>\n",
       "            <td>1971</td>\n",
       "            <td>6</td>\n",
       "            <td>28</td>\n",
       "            <td>University of Pennsylvania</td>\n",
       "            <td>BA , BS</td>\n",
       "            <td>None</td>\n",
       "            <td>None</td>\n",
       "            <td>None</td>\n",
       "            <td>None</td>\n",
       "        </tr>\n",
       "        <tr>\n",
       "            <td>2</td>\n",
       "            <td>Larry Ellison</td>\n",
       "            <td>Oracle</td>\n",
       "            <td>United States</td>\n",
       "            <td>M</td>\n",
       "            <td>81</td>\n",
       "            <td>271.6</td>\n",
       "            <td>1944</td>\n",
       "            <td>8</td>\n",
       "            <td>17</td>\n",
       "            <td>University of Illinois, Urbana-Champaign</td>\n",
       "            <td>no degree</td>\n",
       "            <td>University of Chicago</td>\n",
       "            <td>no degree</td>\n",
       "            <td>None</td>\n",
       "            <td>None</td>\n",
       "        </tr>\n",
       "        <tr>\n",
       "            <td>3</td>\n",
       "            <td>Mark Zuckerberg</td>\n",
       "            <td>Facebook</td>\n",
       "            <td>United States</td>\n",
       "            <td>M</td>\n",
       "            <td>41</td>\n",
       "            <td>251.8</td>\n",
       "            <td>1984</td>\n",
       "            <td>5</td>\n",
       "            <td>14</td>\n",
       "            <td>Harvard University</td>\n",
       "            <td>dropped out</td>\n",
       "            <td>None</td>\n",
       "            <td>None</td>\n",
       "            <td>None</td>\n",
       "            <td>None</td>\n",
       "        </tr>\n",
       "        <tr>\n",
       "            <td>4</td>\n",
       "            <td>Jeff Bezos</td>\n",
       "            <td>Amazon</td>\n",
       "            <td>United States</td>\n",
       "            <td>M</td>\n",
       "            <td>61</td>\n",
       "            <td>237.6</td>\n",
       "            <td>1964</td>\n",
       "            <td>1</td>\n",
       "            <td>12</td>\n",
       "            <td>Princeton University</td>\n",
       "            <td>BSE</td>\n",
       "            <td>None</td>\n",
       "            <td>None</td>\n",
       "            <td>None</td>\n",
       "            <td>None</td>\n",
       "        </tr>\n",
       "        <tr>\n",
       "            <td>5</td>\n",
       "            <td>Larry Page</td>\n",
       "            <td>Google</td>\n",
       "            <td>United States</td>\n",
       "            <td>M</td>\n",
       "            <td>52</td>\n",
       "            <td>177.1</td>\n",
       "            <td>1973</td>\n",
       "            <td>3</td>\n",
       "            <td>26</td>\n",
       "            <td>University of Michigan</td>\n",
       "            <td>BSE</td>\n",
       "            <td>Stanford University</td>\n",
       "            <td>MS</td>\n",
       "            <td>None</td>\n",
       "            <td>None</td>\n",
       "        </tr>\n",
       "    </tbody>\n",
       "</table>"
      ],
      "text/plain": [
       "+---------------+-----------------+---------------+---------------+--------+-----+---------------+------------+-------------+-----------+------------------------------------------+-------------+-----------------------+-----------+--------------+----------+\n",
       "| rank_position |       name      |     source    |    country    | gender | age | current_worth | birth_year | birth_month | birth_day |               university_1               |   degree_1  |      university_2     |  degree_2 | university_3 | degree_3 |\n",
       "+---------------+-----------------+---------------+---------------+--------+-----+---------------+------------+-------------+-----------+------------------------------------------+-------------+-----------------------+-----------+--------------+----------+\n",
       "|       1       |    Elon Musk    | Tesla, SpaceX | United States |   M    |  54 |     413.1     |    1971    |      6      |     28    |        University of Pennsylvania        |   BA , BS   |          None         |    None   |     None     |   None   |\n",
       "|       2       |  Larry Ellison  |     Oracle    | United States |   M    |  81 |     271.6     |    1944    |      8      |     17    | University of Illinois, Urbana-Champaign |  no degree  | University of Chicago | no degree |     None     |   None   |\n",
       "|       3       | Mark Zuckerberg |    Facebook   | United States |   M    |  41 |     251.8     |    1984    |      5      |     14    |            Harvard University            | dropped out |          None         |    None   |     None     |   None   |\n",
       "|       4       |    Jeff Bezos   |     Amazon    | United States |   M    |  61 |     237.6     |    1964    |      1      |     12    |           Princeton University           |     BSE     |          None         |    None   |     None     |   None   |\n",
       "|       5       |    Larry Page   |     Google    | United States |   M    |  52 |     177.1     |    1973    |      3      |     26    |          University of Michigan          |     BSE     |  Stanford University  |     MS    |     None     |   None   |\n",
       "+---------------+-----------------+---------------+---------------+--------+-----+---------------+------------+-------------+-----------+------------------------------------------+-------------+-----------------------+-----------+--------------+----------+"
      ]
     },
     "execution_count": 2,
     "metadata": {},
     "output_type": "execute_result"
    }
   ],
   "source": [
    "%sql SELECT * FROM billionaires LIMIT 5;"
   ]
  },
  {
   "cell_type": "code",
   "execution_count": 3,
   "id": "9ae423af",
   "metadata": {},
   "outputs": [
    {
     "data": {
      "text/html": [
       "<span style=\"None\">Running query in &#x27;local_pg&#x27;</span>"
      ],
      "text/plain": [
       "Running query in 'local_pg'"
      ]
     },
     "metadata": {},
     "output_type": "display_data"
    },
    {
     "data": {
      "text/html": [
       "<span style=\"color: green\">5 rows affected.</span>"
      ],
      "text/plain": [
       "5 rows affected."
      ]
     },
     "metadata": {},
     "output_type": "display_data"
    },
    {
     "data": {
      "text/html": [
       "<table>\n",
       "    <thead>\n",
       "        <tr>\n",
       "            <th>name</th>\n",
       "            <th>country</th>\n",
       "        </tr>\n",
       "    </thead>\n",
       "    <tbody>\n",
       "        <tr>\n",
       "            <td>Elon Musk</td>\n",
       "            <td>United States</td>\n",
       "        </tr>\n",
       "        <tr>\n",
       "            <td>Larry Ellison</td>\n",
       "            <td>United States</td>\n",
       "        </tr>\n",
       "        <tr>\n",
       "            <td>Mark Zuckerberg</td>\n",
       "            <td>United States</td>\n",
       "        </tr>\n",
       "        <tr>\n",
       "            <td>Jeff Bezos</td>\n",
       "            <td>United States</td>\n",
       "        </tr>\n",
       "        <tr>\n",
       "            <td>Larry Page</td>\n",
       "            <td>United States</td>\n",
       "        </tr>\n",
       "    </tbody>\n",
       "</table>"
      ],
      "text/plain": [
       "+-----------------+---------------+\n",
       "|       name      |    country    |\n",
       "+-----------------+---------------+\n",
       "|    Elon Musk    | United States |\n",
       "|  Larry Ellison  | United States |\n",
       "| Mark Zuckerberg | United States |\n",
       "|    Jeff Bezos   | United States |\n",
       "|    Larry Page   | United States |\n",
       "+-----------------+---------------+"
      ]
     },
     "execution_count": 3,
     "metadata": {},
     "output_type": "execute_result"
    }
   ],
   "source": [
    "%sql SELECT name, country FROM billionaires LIMIT 5;"
   ]
  },
  {
   "cell_type": "code",
   "execution_count": null,
   "id": "804bab42",
   "metadata": {},
   "outputs": [],
   "source": []
  }
 ],
 "metadata": {
  "kernelspec": {
   "display_name": "Python 3.12 (.venv successfactors)",
   "language": "python",
   "name": "successfactors-venv"
  },
  "language_info": {
   "codemirror_mode": {
    "name": "ipython",
    "version": 3
   },
   "file_extension": ".py",
   "mimetype": "text/x-python",
   "name": "python",
   "nbconvert_exporter": "python",
   "pygments_lexer": "ipython3",
   "version": "3.12.6"
  }
 },
 "nbformat": 4,
 "nbformat_minor": 5
}
